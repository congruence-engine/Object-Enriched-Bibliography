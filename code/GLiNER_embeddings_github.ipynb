{
  "nbformat": 4,
  "nbformat_minor": 0,
  "metadata": {
    "colab": {
      "provenance": []
    },
    "kernelspec": {
      "name": "python3",
      "display_name": "Python 3"
    },
    "language_info": {
      "name": "python"
    }
  },
  "cells": [
    {
      "cell_type": "markdown",
      "source": [
        "### Install the required packages"
      ],
      "metadata": {
        "id": "tZxDGsv6Vf4M"
      }
    },
    {
      "cell_type": "code",
      "execution_count": null,
      "metadata": {
        "id": "Ik1TGgL0SGzp"
      },
      "outputs": [],
      "source": [
        "!pip install umap-learn"
      ]
    },
    {
      "cell_type": "code",
      "source": [
        "!pip install gliner"
      ],
      "metadata": {
        "id": "sFaBgIGQSMrS"
      },
      "execution_count": null,
      "outputs": []
    },
    {
      "cell_type": "markdown",
      "source": [
        "### Import packages"
      ],
      "metadata": {
        "id": "Z7CcpJimVqNp"
      }
    },
    {
      "cell_type": "code",
      "source": [
        "import pandas as pd\n",
        "from gliner import GLiNER\n",
        "from sentence_transformers import SentenceTransformer\n",
        "import numpy as np\n",
        "from sklearn.metrics.pairwise import cosine_similarity"
      ],
      "metadata": {
        "id": "o22UlftRSON5"
      },
      "execution_count": null,
      "outputs": []
    },
    {
      "cell_type": "markdown",
      "source": [
        "### Load objects and articles csv files\n",
        "\n"
      ],
      "metadata": {
        "id": "LJnOx6jpVxLx"
      }
    },
    {
      "cell_type": "code",
      "source": [
        "articles_df = pd.read_csv('/content/articles_metadata.csv')\n",
        "objects_df = pd.read_csv('/content/objects_metadata.csv')"
      ],
      "metadata": {
        "id": "znfwDYk8SR8L"
      },
      "execution_count": null,
      "outputs": []
    },
    {
      "cell_type": "code",
      "source": [
        "object_texts = objects_df['Collection Online Title'].tolist()  # Convert object text to a list\n"
      ],
      "metadata": {
        "id": "4AEAzzfDSVAi"
      },
      "execution_count": null,
      "outputs": []
    },
    {
      "cell_type": "markdown",
      "source": [
        "### Identify 'object' entities in a single article\n",
        "We do this using GLiNER, a 'universal' named entity recognition model.\n",
        "Here we used gliner_medium-v2.1. In this instance we extract entities that the model recognises as 'objects' in a single article.\n",
        "\n",
        "To see a full list of models in the GLiNER family, visit the model's [github repository](https://github.com/urchade/GLiNER)."
      ],
      "metadata": {
        "id": "l86j1-DMV5GJ"
      }
    },
    {
      "cell_type": "code",
      "source": [
        "model = GLiNER.from_pretrained(\"urchade/gliner_medium-v2.1\")"
      ],
      "metadata": {
        "id": "KtZYbsjzSddb"
      },
      "execution_count": null,
      "outputs": []
    },
    {
      "cell_type": "code",
      "source": [
        "# Retrieve the article text (e.g., the first article)\n",
        "text = articles_df['combined_text'].iloc[55]\n",
        "\n",
        "# Chunk the text within a max token length\n",
        "def chunk_text(text, max_words=200):\n",
        "    words = text.split()\n",
        "    chunks = [\" \".join(words[i:i + max_words]) for i in range(0, len(words), max_words)]\n",
        "    return chunks\n",
        "\n",
        "chunks = chunk_text(text, max_words=200)"
      ],
      "metadata": {
        "id": "aXb7JP-YSkwm"
      },
      "execution_count": null,
      "outputs": []
    },
    {
      "cell_type": "code",
      "source": [
        "# Define labels for entity prediction\n",
        "labels = [\"object\"]\n",
        "\n",
        "all_entities = []\n",
        "\n",
        "# Run GLiNER on each chunk and collect the entities\n",
        "for chunk in chunks:\n",
        "    entities = model.predict_entities(chunk, labels, threshold=0.4)\n",
        "    all_entities.extend(entities)"
      ],
      "metadata": {
        "id": "RmT1-U3DSmpM"
      },
      "execution_count": null,
      "outputs": []
    },
    {
      "cell_type": "code",
      "source": [
        "# Extract unique object terms from the entities\n",
        "article_objects = list(set(entity['text'] for entity in all_entities if entity['label'] == \"object\"))\n",
        "print(\"Identified Objects:\", article_objects)"
      ],
      "metadata": {
        "id": "2oKDqxQWSt6B"
      },
      "execution_count": null,
      "outputs": []
    },
    {
      "cell_type": "code",
      "source": [
        "len(objects)"
      ],
      "metadata": {
        "id": "Bp-LpKZ6SzKP"
      },
      "execution_count": null,
      "outputs": []
    },
    {
      "cell_type": "markdown",
      "source": [
        "### Create embeddings\n",
        "This section of code will create embeddings for:\n",
        "\n",
        "*   the 'object' entities extracted using GLiNER\n",
        "*   the full dataset of objects from a subset of 'textile' objects in the SMG collection\n",
        "\n"
      ],
      "metadata": {
        "id": "d6zav54nWqVA"
      }
    },
    {
      "cell_type": "code",
      "source": [
        "# Initialize embedding model\n",
        "embedding_model = SentenceTransformer('all-MiniLM-L6-v2')\n",
        "\n",
        "# Generate embeddings for each identified 'object'' entity\n",
        "article_embeddings = {term: embedding_model.encode(term) for term in article_objects}\n",
        "\n",
        "# Encode museum object descriptions with the same model\n",
        "object_texts = objects_df['Collection Online Title'].tolist()\n",
        "objects_embeddings = embedding_model.encode(object_texts)\n",
        "\n",
        "# Find closest matches between textile machine terms and museum objects\n",
        "matches = []\n",
        "for term, term_embedding in article_embeddings.items():\n",
        "    similarities = cosine_similarity([term_embedding], objects_embeddings)[0]\n",
        "    best_match_idx = np.argmax(similarities)\n",
        "    best_match_score = similarities[best_match_idx]\n",
        "\n",
        "    matches.append({\n",
        "        'textile_machine': term,\n",
        "        'best_match_object': objects_df['Collection Online Title'].iloc[best_match_idx],\n",
        "        'similarity_score': best_match_score\n",
        "    })\n",
        "\n",
        "# Convert matches to DataFrame for easy viewing\n",
        "matches_df = pd.DataFrame(matches)\n",
        "matches_df = matches_df.sort_values(by='similarity_score', ascending=False)\n",
        "print(matches_df[['textile_machine', 'best_match_object', 'similarity_score']])"
      ],
      "metadata": {
        "id": "T18zUC9LUewM"
      },
      "execution_count": null,
      "outputs": []
    },
    {
      "cell_type": "markdown",
      "source": [
        "### Visualise the results\n",
        "\n",
        "Here we visualise the results in vector space. This will help us to see how closely the extracted entities match the objects from the SMG dataset."
      ],
      "metadata": {
        "id": "RrHZjAS6VDuU"
      }
    },
    {
      "cell_type": "code",
      "source": [
        "# Combine textile machine and object embeddings\n",
        "combined_embeddings = np.vstack((list(textile_machine_embeddings.values()), objects_embeddings))\n",
        "\n",
        "# Create labels for visualization\n",
        "labels = ['NER Object'] * len(textile_machine_embeddings) + ['SMG Object'] * len(objects_embeddings)"
      ],
      "metadata": {
        "id": "5OHkamCJUj8e"
      },
      "execution_count": null,
      "outputs": []
    },
    {
      "cell_type": "code",
      "source": [
        "from umap.umap_ import UMAP\n",
        "\n",
        "reducer = UMAP(n_components=3, n_neighbors=15, min_dist=0.1, metric='cosine', random_state=42)\n",
        "embedding_3d = reducer.fit_transform(combined_embeddings)"
      ],
      "metadata": {
        "id": "PfthlablUn7_"
      },
      "execution_count": null,
      "outputs": []
    },
    {
      "cell_type": "code",
      "source": [
        "import plotly.express as px\n",
        "\n",
        "embedding_df = pd.DataFrame({\n",
        "    'x': embedding_3d[:, 0],\n",
        "    'y': embedding_3d[:, 1],\n",
        "    'z': embedding_3d[:, 2],\n",
        "    'label': labels\n",
        "})\n",
        "\n",
        "fig = px.scatter_3d(\n",
        "    embedding_df, x='x', y='y', z='z', color='label',\n",
        "    title='3D Visualization of NER Terms and Museum Objects',\n",
        "    opacity=0.7\n",
        ")\n",
        "\n",
        "fig.update_traces(marker=dict(size=4))\n",
        "fig.show()"
      ],
      "metadata": {
        "id": "DXOM7FfvU7ZA"
      },
      "execution_count": null,
      "outputs": []
    }
  ]
}